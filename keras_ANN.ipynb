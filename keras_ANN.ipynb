{
 "cells": [
  {
   "cell_type": "markdown",
   "metadata": {},
   "source": [
    "## Classification Analysis<br>\n",
    "&ensp;&ensp;[prepare categorical data](#section1) <br>\n",
    "&ensp; [multi-class vs. multi-label](#section2)<br>\n",
    "1. [multi-class](#multi-class)\n",
    "2. [multi-label](#multi-label)\n",
    "## [Call back](#call-back)\n",
    "1. [history](#history) [history_plot](#history_plot)"
   ]
  },
  {
   "cell_type": "code",
   "execution_count": 5,
   "metadata": {},
   "outputs": [],
   "source": [
    "import numpy as np\n",
    "import pandas as pd\n",
    "import tensorflow as tf\n",
    "import keras\n",
    "from keras.layers import Dense\n",
    "from keras.models import Sequential\n"
   ]
  },
  {
   "cell_type": "markdown",
   "metadata": {},
   "source": [
    "#### Basic of Neural Networks"
   ]
  },
  {
   "cell_type": "code",
   "execution_count": 33,
   "metadata": {},
   "outputs": [],
   "source": [
    "def relu(input):\n",
    "    '''Define your relu activation function here'''\n",
    "    # Calculate the value for the output of the relu function: output\n",
    "    output = max(input, 0)\n",
    "    return(output)"
   ]
  },
  {
   "cell_type": "code",
   "execution_count": 34,
   "metadata": {},
   "outputs": [
    {
     "ename": "NameError",
     "evalue": "name 'input_data' is not defined",
     "output_type": "error",
     "traceback": [
      "\u001b[1;31m---------------------------------------------------------------------------\u001b[0m",
      "\u001b[1;31mNameError\u001b[0m                                 Traceback (most recent call last)",
      "\u001b[1;32m~\\AppData\\Local\\Temp/ipykernel_14692/1063853871.py\u001b[0m in \u001b[0;36m<module>\u001b[1;34m\u001b[0m\n\u001b[0;32m     16\u001b[0m \u001b[1;31m# Create empty list to store prediction results\u001b[0m\u001b[1;33m\u001b[0m\u001b[1;33m\u001b[0m\u001b[0m\n\u001b[0;32m     17\u001b[0m \u001b[0mresults\u001b[0m \u001b[1;33m=\u001b[0m \u001b[1;33m[\u001b[0m\u001b[1;33m]\u001b[0m\u001b[1;33m\u001b[0m\u001b[1;33m\u001b[0m\u001b[0m\n\u001b[1;32m---> 18\u001b[1;33m \u001b[1;32mfor\u001b[0m \u001b[0minput_data_row\u001b[0m \u001b[1;32min\u001b[0m \u001b[0minput_data\u001b[0m\u001b[1;33m:\u001b[0m\u001b[1;33m\u001b[0m\u001b[1;33m\u001b[0m\u001b[0m\n\u001b[0m\u001b[0;32m     19\u001b[0m     \u001b[1;31m# Append prediction to results\u001b[0m\u001b[1;33m\u001b[0m\u001b[1;33m\u001b[0m\u001b[0m\n\u001b[0;32m     20\u001b[0m     \u001b[0mresults\u001b[0m\u001b[1;33m.\u001b[0m\u001b[0mappend\u001b[0m\u001b[1;33m(\u001b[0m\u001b[0mpredict_with_network\u001b[0m\u001b[1;33m(\u001b[0m\u001b[0minput_data_row\u001b[0m\u001b[1;33m,\u001b[0m \u001b[0mweights\u001b[0m\u001b[1;33m)\u001b[0m\u001b[1;33m)\u001b[0m\u001b[1;33m\u001b[0m\u001b[1;33m\u001b[0m\u001b[0m\n",
      "\u001b[1;31mNameError\u001b[0m: name 'input_data' is not defined"
     ]
    }
   ],
   "source": [
    "# Define predict_with_network()\n",
    "def predict_with_network(input_data_row, weights):\n",
    "    # Calculate node 0 value\n",
    "    node_0_input = (input_data_row * weights['node_0']).sum()\n",
    "    node_0_output = relu(node_0_input)\n",
    "    # Calculate node 1 value\n",
    "    node_1_input = (input_data_row * weights['node_1']).sum()\n",
    "    node_1_output = relu(node_1_input)\n",
    "    # Put node values into array: hidden_layer_outputs\n",
    "    hidden_layer_outputs = np.array([node_0_output, node_1_output]) \n",
    "    # Calculate model output\n",
    "    input_to_final_layer = (hidden_layer_outputs * weights['output']).sum()\n",
    "    model_output = relu(input_to_final_layer)\n",
    "    # Return model output\n",
    "    return(model_output)\n",
    "# Create empty list to store prediction results\n",
    "results = []\n",
    "for input_data_row in input_data:\n",
    "    # Append prediction to results\n",
    "    results.append(predict_with_network(input_data_row, weights))\n",
    "# Print results\n",
    "print(results)        "
   ]
  },
  {
   "cell_type": "markdown",
   "metadata": {},
   "source": [
    "#### read data"
   ]
  },
  {
   "cell_type": "code",
   "execution_count": 6,
   "metadata": {},
   "outputs": [],
   "source": [
    "df=pd.read_csv('https://assets.datacamp.com/production/repositories/654/datasets/8a57adcdb5bfb3e603dad7d3c61682dfe63082b8/hourly_wages.csv')\n",
    "# Save the number of columns in predictors: n_cols\n",
    "n_cols = df.shape[1]\n",
    "predictors=df.loc[:, df.columns != 'wage_per_hour'].to_numpy()\n",
    "target=df['wage_per_hour'].to_numpy()"
   ]
  },
  {
   "cell_type": "markdown",
   "metadata": {},
   "source": [
    "### Bulid Classification models"
   ]
  },
  {
   "cell_type": "markdown",
   "metadata": {},
   "source": [
    "<s id='section1'></a> \n",
    "#### prepare dataset for keras"
   ]
  },
  {
   "cell_type": "code",
   "execution_count": 1,
   "metadata": {},
   "outputs": [],
   "source": [
    "import pandas as pd \n",
    "from tensorflow.keras.utils import to_categorical\n",
    "df = pd.read_csv('darts.csv') \n",
    "#turn Object_str into Category_str \n",
    "df.competitor = pd.Categorical(df.competitor)\n",
    "## Assign a number to each category (label encoding): turn category_str into category_number\n",
    "df.competitor = df.competitor.cat.codes\n",
    "# Turn response variable into one-hot response vector\n",
    "y = to_categorical(df.competitor)\n",
    "X=df.drop(columns=['competitor']).to_numpy()"
   ]
  },
  {
   "cell_type": "code",
   "execution_count": 2,
   "metadata": {},
   "outputs": [],
   "source": [
    "from sklearn.model_selection import train_test_split\n",
    "X_train, X_test, y_train, y_test = train_test_split(X, y, test_size=0.33, random_state=42)"
   ]
  },
  {
   "cell_type": "markdown",
   "metadata": {},
   "source": [
    "<a id='section2'></a> \n",
    "[multi-class vs. multi-label](https://gombru.github.io/2018/05/23/cross_entropy_loss/)<p>\n",
    "multi-class: output_activation_fun='softmax'; loss='categorical_crossentropy' <br>\n",
    "multi-label: output_activation_fun='sigmoid'; loss='binary_crossentropy' <p>\n",
    "\n",
    "<img src=\"https://gombru.github.io/assets/cross_entropy_loss/multiclass_multilabel.png\" width=\"400\"/><br>\n"
   ]
  },
  {
   "cell_type": "markdown",
   "metadata": {},
   "source": [
    "<a id='multi-class'></a> \n",
    "#### 1. Multi-class"
   ]
  },
  {
   "cell_type": "code",
   "execution_count": 8,
   "metadata": {},
   "outputs": [
    {
     "name": "stdout",
     "output_type": "stream",
     "text": [
      "Epoch 1/5\n",
      "17/17 [==============================] - 0s 10ms/step - loss: 1.3745 - val_loss: 1.3597\n",
      "Epoch 2/5\n",
      "17/17 [==============================] - 0s 3ms/step - loss: 1.3556 - val_loss: 1.3427\n",
      "Epoch 3/5\n",
      "17/17 [==============================] - 0s 3ms/step - loss: 1.3386 - val_loss: 1.3262\n",
      "Epoch 4/5\n",
      "17/17 [==============================] - 0s 3ms/step - loss: 1.3214 - val_loss: 1.3086\n",
      "Epoch 5/5\n",
      "17/17 [==============================] - 0s 4ms/step - loss: 1.3025 - val_loss: 1.2903\n"
     ]
    }
   ],
   "source": [
    "# Save the number of columns in predictors: n_cols\n",
    "n_cols = X.shape[1]\n",
    "# build the model\n",
    "model = Sequential()\n",
    "model.add(Dense(50,activation='relu',input_shape=(n_cols,)))\n",
    "model.add(Dense(32,activation='relu' ))\n",
    "model.add(Dense(4,activation='softmax'))\n",
    "model.compile(optimizer='adam', loss='categorical_crossentropy')\n",
    "# Fit the model\n",
    "history=model.fit(X_train, y_train,epochs=5,validation_data=(X_test, y_test))"
   ]
  },
  {
   "cell_type": "code",
   "execution_count": 9,
   "metadata": {},
   "outputs": [
    {
     "data": {
      "text/plain": [
       "array([[0.22134073, 0.27171084, 0.2681071 , 0.2388413 ]], dtype=float32)"
      ]
     },
     "execution_count": 9,
     "metadata": {},
     "output_type": "execute_result"
    }
   ],
   "source": [
    "model.predict(X[0:1])"
   ]
  },
  {
   "cell_type": "markdown",
   "metadata": {},
   "source": [
    "<c id='multi-label'></a> \n",
    "#### 2. Multi-label"
   ]
  },
  {
   "cell_type": "code",
   "execution_count": 84,
   "metadata": {},
   "outputs": [
    {
     "name": "stdout",
     "output_type": "stream",
     "text": [
      "Epoch 1/5\n",
      "17/17 [==============================] - 1s 11ms/step - loss: 0.6783 - binary_accuracy: 0.6702 - val_loss: 0.6603 - val_binary_accuracy: 0.7386\n",
      "Epoch 2/5\n",
      "17/17 [==============================] - 0s 3ms/step - loss: 0.6480 - binary_accuracy: 0.7481 - val_loss: 0.6286 - val_binary_accuracy: 0.7500\n",
      "Epoch 3/5\n",
      "17/17 [==============================] - 0s 3ms/step - loss: 0.6145 - binary_accuracy: 0.7500 - val_loss: 0.5957 - val_binary_accuracy: 0.7500\n",
      "Epoch 4/5\n",
      "17/17 [==============================] - 0s 4ms/step - loss: 0.5827 - binary_accuracy: 0.7500 - val_loss: 0.5693 - val_binary_accuracy: 0.7500\n",
      "Epoch 5/5\n",
      "17/17 [==============================] - 0s 4ms/step - loss: 0.5592 - binary_accuracy: 0.7500 - val_loss: 0.5538 - val_binary_accuracy: 0.7500\n"
     ]
    }
   ],
   "source": [
    "# Save the number of columns in predictors: n_cols\n",
    "n_cols = X.shape[1]\n",
    "model = Sequential()\n",
    "model.add(Dense(50,activation='relu',input_shape=(n_cols,)))\n",
    "model.add(Dense(32,activation='relu' ))\n",
    "model.add(Dense(4,activation='sigmoid'))\n",
    "model.compile(optimizer='adam', loss='binary_crossentropy',metrics=[tf.keras.metrics.BinaryAccuracy()])\n",
    "# Fit the model\n",
    "history=model.fit(X_train, y_train,epochs=5,validation_data=(X_test, y_test))"
   ]
  },
  {
   "cell_type": "markdown",
   "metadata": {},
   "source": [
    "<a id='call-back'></a> \n",
    "#### [Callback](https://keras.io/api/callbacks/) <br>\n",
    "perform actions at various stages of training (e.g. at the start or end of an epoch, before or after a single batch, etc).\n",
    "1. history \n",
    "2. EarlyStopping<br>\n",
    "3. Model checkpoint<br>\n",
    "save a model or weights (in a checkpoint file) at some interval,<br>\n",
    "parameters: save_best_only=False, save_weights_only=False"
   ]
  },
  {
   "cell_type": "markdown",
   "metadata": {},
   "source": [
    "<c id='history'>\n",
    "1. history "
   ]
  },
  {
   "cell_type": "code",
   "execution_count": 85,
   "metadata": {},
   "outputs": [
    {
     "data": {
      "text/plain": [
       "[0.6702425479888916, 0.7481343150138855, 0.75, 0.75, 0.75]"
      ]
     },
     "execution_count": 85,
     "metadata": {},
     "output_type": "execute_result"
    }
   ],
   "source": [
    "history.history['loss','binary_accuracy','val_loss']"
   ]
  },
  {
   "cell_type": "markdown",
   "metadata": {},
   "source": [
    "<s id='history_plot'>"
   ]
  },
  {
   "cell_type": "code",
   "execution_count": 12,
   "metadata": {},
   "outputs": [
    {
     "data": {
      "image/png": "[encoded data removed]",
      "text/plain": [
       "<Figure size 432x288 with 1 Axes>"
      ]
     },
     "metadata": {
      "needs_background": "light"
     },
     "output_type": "display_data"
    }
   ],
   "source": [
    "#history plot\n",
    "import matplotlib.pyplot as plt\n",
    "# Plot train vs test accuracy per epoch \n",
    "plt.figure() \n",
    "# Use the history metrics \n",
    "plt.plot(history.history['loss'])\n",
    "plt.plot(history.history['val_loss'])\n",
    "# Make it pretty \n",
    "plt.title('Model accuracy') \n",
    "plt.ylabel('Accuracy')\n",
    "plt.xlabel('Epoch') \n",
    "plt.legend(['Train', 'Test'])\n",
    "plt.show()"
   ]
  },
  {
   "cell_type": "markdown",
   "metadata": {},
   "source": [
    "pass a list of callbacks to the .fit() method of a model:<br>\n",
    "my_callbacks = [ <p>\n",
    "&emsp;    tf.keras.callbacks.EarlyStopping( patience=2 ), <p>\n",
    "&emsp;    tf.keras.callbacks.ModelCheckpoint( filepath = 'model.{epoch:02d}-{val_loss:.2f}.h5'), <p>\n",
    "&emsp;    tf.keras.callbacks.TensorBoard( log_dir = './logs'),] <p>\n",
    "model.fit(dataset, epochs=10, callbacks=my_callbacks)"
   ]
  },
  {
   "cell_type": "markdown",
   "metadata": {},
   "source": [
    "### Optimizing NN"
   ]
  },
  {
   "cell_type": "markdown",
   "metadata": {},
   "source": [
    "1. metrics=['accuracy'] \n",
    "    For categorical crossentropy loss function, a lower score is better. But it's still hard to interpret.\n",
    "    This means the accuracy score at the end of each epoch, which makes it easier to see and understand the models progress.\n",
    "2. The softmax activation function ensures the predictions sum to 1, so they can be interpreted like probabilities."
   ]
  },
  {
   "cell_type": "markdown",
   "metadata": {},
   "source": [
    "#### why optimizing is so chlenging"
   ]
  },
  {
   "cell_type": "markdown",
   "metadata": {},
   "source": [
    "#### Stochastic gradient descent\n",
    "The easiest way to see the effect of different learning rates is to use the simplest optimizer,"
   ]
  },
  {
   "cell_type": "code",
   "execution_count": 66,
   "metadata": {},
   "outputs": [],
   "source": [
    "input_shape=(10,)\n",
    "def get_new_model(input_shape = input_shape):\n",
    "    model = Sequential()\n",
    "    model.add(Dense(100, activation='relu', input_shape = input_shape))\n",
    "    model.add(Dense(100, activation='relu'))\n",
    "    model.add(Dense(2, activation='softmax'))\n",
    "    return(model)"
   ]
  },
  {
   "cell_type": "code",
   "execution_count": null,
   "metadata": {},
   "outputs": [],
   "source": [
    "# Import the SGD optimizer\n",
    "from tensorflow.keras.optimizers import SGD\n",
    "# Create list of learning rates: lr_to_test\n",
    "lr_to_test = [.000001, 0.01, 1]\n",
    "# Loop over learning rates\n",
    "for lr in lr_to_test:\n",
    "    print('\\n\\nTesting model with learning rate: %f\\n'%lr )   \n",
    "    # Build new model to test, unaffected by previous models\n",
    "    model = get_new_model()\n",
    "    # Create SGD optimizer with specified learning rate: my_optimizer\n",
    "    my_optimizer = SGD(lr=lr)\n",
    "    # Compile the model\n",
    "    model.compile(optimizer=my_optimizer, loss='categorical_crossentropy')\n",
    "    # Fit the model\n",
    "    model.fit(predictors, target)"
   ]
  },
  {
   "cell_type": "markdown",
   "metadata": {},
   "source": [
    "#### Comparing activation functions"
   ]
  },
  {
   "cell_type": "code",
   "execution_count": null,
   "metadata": {},
   "outputs": [],
   "source": [
    "# Set a random seed \n",
    "np.random.seed(1) \n",
    "# Return a new model with the given activation \n",
    "def get_model(act_function): \n",
    "    model = Sequential() \n",
    "    model.add(Dense(4, input_shape=(2,), activation=act_function)) \n",
    "    model.add(Dense(1, activation='sigmoid'))\n",
    "    return model\n",
    "# Activation functions to try out \n",
    "activations = ['relu', 'sigmoid', 'tanh']\n",
    "# Dictionary to store results \n",
    "activation_results = {} \n",
    "for funct in activations: \n",
    "    model = get_model(act_function=funct)  #apply different act_function \n",
    "    history = model.fit(X_train, y_train, validation_data=(X_test, y_test), epochs=100, verbose=0)\n",
    "    activation_results[funct] = history\n",
    "# Extract val_loss history of each activation function \n",
    "val_loss_per_funct = {k:v.history['val_loss'] for k,v in activation_results.items()}\n",
    "# Turn the dictionary into a pandas dataframe\n",
    "val_loss_curves = pd.DataFrame(val_loss_per_funct)\n",
    "# Plot the curves\n",
    "val_loss_curves.plot(title='Loss per Activation function')"
   ]
  },
  {
   "cell_type": "markdown",
   "metadata": {},
   "source": [
    "#### batch size</s>\n",
    "Advantages:<br> \n",
    "&emsp; Networks train faster (more weight updates in same amount of time)<br> \n",
    "&emsp; Less RAM memory required, can train on huge datasets<br>\n",
    "&emsp; Noise can help networks reach a lower error, escaping local minima<br>\n"
   ]
  },
  {
   "cell_type": "code",
   "execution_count": null,
   "metadata": {},
   "outputs": [],
   "source": [
    "for size in training_sizes:\n",
    "  \t# Get a fraction of training data (we only care about the training data)\n",
    "    X_train_frac, y_train_frac = X_train[:size], y_train[:size]\n",
    "\n",
    "    # Reset the model to the initial weights and train it on the new training data fraction\n",
    "    model.set_weights(initial_weights)\n",
    "    model.fit(X_train_frac, y_train_frac, epochs = 50, callbacks = [early_stop])\n",
    "\n",
    "    # Evaluate and store both: the training data fraction and the complete test set results\n",
    "    train_accs.append(model.evaluate(X_train, y_train)[1])\n",
    "    test_accs.append(model.evaluate(X_test, y_test)[1])\n",
    "    \n",
    "# Plot train vs test accuracies\n",
    "plot_results(train_accs, test_accs)"
   ]
  },
  {
   "cell_type": "markdown",
   "metadata": {},
   "source": [
    "#### Batch normalizing"
   ]
  },
  {
   "cell_type": "code",
   "execution_count": null,
   "metadata": {},
   "outputs": [],
   "source": [
    "# Import batch normalization from keras layers\n",
    "from keras.layers import BatchNormalization\n",
    "# Build your deep network\n",
    "batchnorm_model = Sequential()\n",
    "batchnorm_model.add(Dense(50, input_shape=(64,), activation='relu', kernel_initializer='normal'))\n",
    "#-------------------------------------------------------------------------------------------------\n",
    "batchnorm_model.add(BatchNormalization())\n",
    "#-------------------------------------------------------------------------------------------------\n",
    "batchnorm_model.add(Dense(50, activation='relu', kernel_initializer='normal'))\n",
    "batchnorm_model.add(BatchNormalization())\n",
    "batchnorm_model.add(Dense(50, activation='relu', kernel_initializer='normal'))\n",
    "batchnorm_model.add(BatchNormalization())\n",
    "batchnorm_model.add(Dense(10, activation='softmax', kernel_initializer='normal'))\n",
    "# Compile your model with sgd\n",
    "batchnorm_model.compile(optimizer='sgd', loss='categorical_crossentropy', metrics=['accuracy'])"
   ]
  },
  {
   "cell_type": "markdown",
   "metadata": {},
   "source": [
    "## Hyperparameter tuning\n",
    "1. Number of layers \n",
    "2. Number of neurons per layer \n",
    "3. Layer order \n",
    "4. Layer activations \n",
    "5. Batch sizes Learning rates\n",
    "6. Optimizers"
   ]
  }
 ],
 "metadata": {
  "interpreter": {
   "hash": "330204c9d8b03d73c01b77e5fa072b00779363ad44c9b37d26bce407274881dd"
  },
  "kernelspec": {
   "display_name": "Python 3.9.7 64-bit",
   "name": "python3"
  },
  "language_info": {
   "codemirror_mode": {
    "name": "ipython",
    "version": 3
   },
   "file_extension": ".py",
   "mimetype": "text/x-python",
   "name": "python",
   "nbconvert_exporter": "python",
   "pygments_lexer": "ipython3",
   "version": "3.9.7"
  },
  "orig_nbformat": 4
 },
 "nbformat": 4,
 "nbformat_minor": 2
}
